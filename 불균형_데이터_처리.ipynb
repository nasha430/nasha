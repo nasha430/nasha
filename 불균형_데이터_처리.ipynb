{
  "nbformat": 4,
  "nbformat_minor": 0,
  "metadata": {
    "colab": {
      "name": "불균형 데이터 처리.ipynb",
      "provenance": [],
      "collapsed_sections": [],
      "authorship_tag": "ABX9TyMgeBNB6CBVImRUfNhK+EDX",
      "include_colab_link": true
    },
    "kernelspec": {
      "name": "python3",
      "display_name": "Python 3"
    },
    "language_info": {
      "name": "python"
    }
  },
  "cells": [
    {
      "cell_type": "markdown",
      "metadata": {
        "id": "view-in-github",
        "colab_type": "text"
      },
      "source": [
        "<a href=\"https://colab.research.google.com/github/nasha430/nasha/blob/master/%EB%B6%88%EA%B7%A0%ED%98%95_%EB%8D%B0%EC%9D%B4%ED%84%B0_%EC%B2%98%EB%A6%AC.ipynb\" target=\"_parent\"><img src=\"https://colab.research.google.com/assets/colab-badge.svg\" alt=\"Open In Colab\"/></a>"
      ]
    },
    {
      "cell_type": "code",
      "execution_count": 1,
      "metadata": {
        "colab": {
          "base_uri": "https://localhost:8080/"
        },
        "id": "-egWSL6_58HR",
        "outputId": "fc08d759-686d-4f7a-aecc-1ae3e108ac3d"
      },
      "outputs": [
        {
          "output_type": "stream",
          "name": "stdout",
          "text": [
            "Looking in indexes: https://pypi.org/simple, https://us-python.pkg.dev/colab-wheels/public/simple/\n",
            "Requirement already satisfied: imbalanced-learn in /usr/local/lib/python3.7/dist-packages (0.8.1)\n",
            "Requirement already satisfied: scipy>=0.19.1 in /usr/local/lib/python3.7/dist-packages (from imbalanced-learn) (1.4.1)\n",
            "Requirement already satisfied: numpy>=1.13.3 in /usr/local/lib/python3.7/dist-packages (from imbalanced-learn) (1.21.6)\n",
            "Requirement already satisfied: scikit-learn>=0.24 in /usr/local/lib/python3.7/dist-packages (from imbalanced-learn) (1.0.2)\n",
            "Requirement already satisfied: joblib>=0.11 in /usr/local/lib/python3.7/dist-packages (from imbalanced-learn) (1.1.0)\n",
            "Requirement already satisfied: threadpoolctl>=2.0.0 in /usr/local/lib/python3.7/dist-packages (from scikit-learn>=0.24->imbalanced-learn) (3.1.0)\n"
          ]
        }
      ],
      "source": [
        "!pip install imbalanced-learn"
      ]
    },
    {
      "cell_type": "code",
      "source": [
        ""
      ],
      "metadata": {
        "id": "kga4NzI46FRf"
      },
      "execution_count": null,
      "outputs": []
    },
    {
      "cell_type": "markdown",
      "source": [
        "* 불균형 데이터 처리\n",
        "1. 필요 라이브러리 import\n",
        "-imbalanced-learn 패키지\n",
        "-imbalanced data 문제를 해결하기 위한 다양한 샘플링 방법을 구현한 파이썬 패키지\n",
        "- 설치 방법 : jupyter notebook 에서 !pip install imbalanced-learn 혹은 !pip install imbalanced\n",
        "\n"
      ],
      "metadata": {
        "id": "ABynb-Xo-ZAe"
      }
    },
    {
      "cell_type": "code",
      "source": [
        "import warnings\n",
        "warnings.simplefilter(action='ignore', category=FutureWarning) # FuterWarning제거\n",
        "import pandas as pd # pandas package\n",
        "import numpy as np # numpy package : np.nan 이용 결측값 생성\n",
        "%matplotlib inline\n",
        "\n",
        "from matplotlib import pyplot as plt\n",
        "import seaborn as sns # seaborn 시각화 패키지\n",
        "from sklearn.datasets import make_classification # 데이터셋 생성 패키지\n",
        "\n",
        "# 불균형 데이터 처리-언더 샘플링\n",
        "from imblearn.under_sampling import RandomUnderSampler\n",
        "from imblearn.under_sampling import TomekLinks\n",
        "from imblearn.under_sampling import OneSidedSelection\n",
        "\n",
        "# 불균형 데이터 처리 - 오버 샘플링\n",
        "from imblearn.over_sampling import RandomOverSampler\n",
        "from imblearn.over_sampling import SMOTE\n",
        "from imblearn.over_sampling import ADASYN\n",
        "from imblearn.over_sampling import BorderlineSMOTE\n",
        "\n",
        "# 데이터 검증\n",
        "from sklearn.ensemble import RandomForestClassifier #랜덤 포레스트\n",
        "from sklearn.model_selection import RepeatedStratifiedKFold # Cross-Validation\n",
        "from sklearn.model_selection import cross_validate # Cross_Validation\n",
        "\n",
        "from sklearn.preprocessing import MinMaxScaler # min-max 스케일링\n",
        "from sklearn.preprocessing import StandardScaler #표준화\n",
        "from scipy import stats\n",
        "\n",
        "import matplotlib.pyplot as plt # matplotlib 시각화 패키지\n",
        "\n",
        "\n",
        "# os에 따른 Font 깨짐 제거를 위해 Font 지정\n",
        "import os\n",
        "if os.name == 'nt': # Windows OS\n",
        "  font_family = \"malgun Gothic\"\n",
        "else: # MAC OS\n",
        "  font_family = \"AppleGothic\"\n",
        "\n",
        "# - 값이 깨지는 문제 해결을 위해 파라미터값 설정\n",
        "sns.set(font=font_family, rc = {\"axes.unicode_minus\" : False})\n",
        "\n",
        "#불균형 데이터에 처리에 딸느 랜덤포레스트 결과 확인 함수 생성\n",
        "def Randomforest_Result(x, y, title):\n",
        "  rf = RandomForestClassifier(criterion= 'entropy')\n",
        "  # cv_rf = RepeatedStratifiedKFold(n_splits=10, n_repeats=3, random_state=1)\n",
        "  cv_rf = RepeatedStratifiedKFold(n_splits=3, n_repeats=1, random_state=1)\n",
        "  scores = cross_validate(rf, x, y, scoring='f1', cv=cv_rf, n_jobs=-1)\n",
        "  print(title, ':','3-Fold CV f1 score: %.4f' % np.mean(scores['test_score']))\n",
        "  return"
      ],
      "metadata": {
        "id": "wgIaG_JW-s_8"
      },
      "execution_count": 3,
      "outputs": []
    },
    {
      "cell_type": "markdown",
      "source": [
        "2. Under Sampling\n",
        "  1. 데이터셋 준비 및 확인"
      ],
      "metadata": {
        "id": "3AbEPapNBzJ9"
      }
    },
    {
      "cell_type": "code",
      "source": [
        "#데이터 셋 준비\n",
        "X_data, y_class = make_classification(n_classes=2, class_sep=2, n_samples=1000,\n",
        "                                      n_features=20, weights=[0.9, 0.1], flip_y=0,\n",
        "                                      n_clusters_per_class=1, random_state=10)\n",
        "print(X_data.shape)\n",
        "y_class.shape"
      ],
      "metadata": {
        "colab": {
          "base_uri": "https://localhost:8080/"
        },
        "id": "x64kFkxkAtLm",
        "outputId": "33c3d5a5-02c7-4bb1-94dd-492eb8172d42"
      },
      "execution_count": 7,
      "outputs": [
        {
          "output_type": "stream",
          "name": "stdout",
          "text": [
            "(1000, 20)\n"
          ]
        },
        {
          "output_type": "execute_result",
          "data": {
            "text/plain": [
              "(1000,)"
            ]
          },
          "metadata": {},
          "execution_count": 7
        }
      ]
    },
    {
      "cell_type": "code",
      "source": [
        "# count_and_plot 그리기 함수\n",
        "\n",
        "from collections import Counter \n",
        "from matplotlib import pyplot\n",
        "def count_and_plot(y):\n",
        "  counter = Counter(y)\n",
        "  for k,v in counter.items():\n",
        "    print('Class=%d, n=%d (%.3f%%)' % (k, v, v/ len(y) *100))\n",
        "  pyplot.bar(counter.keys(), counter.values())\n",
        "  pyplot.show()"
      ],
      "metadata": {
        "id": "gvGtfO1iCSlX"
      },
      "execution_count": 10,
      "outputs": []
    },
    {
      "cell_type": "code",
      "source": [
        "#데이터 셋 가시화\n",
        "plt.figure(figsize=(5,3))\n",
        "count_and_plot(y_class)"
      ],
      "metadata": {
        "colab": {
          "base_uri": "https://localhost:8080/",
          "height": 267
        },
        "id": "a7IS6tEGDi3v",
        "outputId": "94e2eb06-63cc-421b-9b35-d02522de2a24"
      },
      "execution_count": 11,
      "outputs": [
        {
          "output_type": "stream",
          "name": "stderr",
          "text": [
            "findfont: Font family ['AppleGothic'] not found. Falling back to DejaVu Sans.\n"
          ]
        },
        {
          "output_type": "stream",
          "name": "stdout",
          "text": [
            "Class=0, n=900 (90.000%)\n",
            "Class=1, n=100 (10.000%)\n"
          ]
        },
        {
          "output_type": "display_data",
          "data": {
            "text/plain": [
              "<Figure size 360x216 with 1 Axes>"
            ],
            "image/png": "[encoded data removed]"
          },
          "metadata": {}
        }
      ]
    },
    {
      "cell_type": "code",
      "source": [
        "Randomforest_Result(X_data, y_class, \"언더 샘플링_원본 데이터 결과\")"
      ],
      "metadata": {
        "colab": {
          "base_uri": "https://localhost:8080/"
        },
        "id": "7QCblzmzD0Q5",
        "outputId": "4139e23f-50f7-45c8-8d72-0d61d6f449df"
      },
      "execution_count": 12,
      "outputs": [
        {
          "output_type": "stream",
          "name": "stdout",
          "text": [
            "언더 샘플링_원본 데이터 결과 : 3-Fold CV f1 score: 0.9753\n"
          ]
        }
      ]
    },
    {
      "cell_type": "code",
      "source": [
        "#sampling_strategy\n",
        "#- 'majority'(소수 집단과 동일하게 샘플링)\n",
        "#- 0과 1 사이의 숫자를 지정(소수 집단 데이터 수/ 다수 집단 데이터 수 )하여 샘플링\n",
        "under_random = RandomUnderSampler(sampling_strategy='majority')\n",
        "X_random, y_random = under_random.fit_resample(X_data, y_class)"
      ],
      "metadata": {
        "id": "_XJewFF0D7qs"
      },
      "execution_count": 14,
      "outputs": []
    },
    {
      "cell_type": "code",
      "source": [
        "plt.figure(figsize= (5, 3))\n",
        "count_and_plot(y_random)"
      ],
      "metadata": {
        "colab": {
          "base_uri": "https://localhost:8080/",
          "height": 249
        },
        "id": "b1sBeKtPET2B",
        "outputId": "31d1d87c-7cce-43a9-e922-588686bf05f8"
      },
      "execution_count": 15,
      "outputs": [
        {
          "output_type": "stream",
          "name": "stdout",
          "text": [
            "Class=0, n=100 (50.000%)\n",
            "Class=1, n=100 (50.000%)\n"
          ]
        },
        {
          "output_type": "display_data",
          "data": {
            "text/plain": [
              "<Figure size 360x216 with 1 Axes>"
            ],
            "image/png": "[encoded data removed]"
          },
          "metadata": {}
        }
      ]
    },
    {
      "cell_type": "code",
      "source": [
        "Randomforest_Result(X_random, y_random, \"언더 샘플링_랜덤언더 샘플링_데이터 결과\")"
      ],
      "metadata": {
        "colab": {
          "base_uri": "https://localhost:8080/"
        },
        "id": "ka_fp_bsEcMr",
        "outputId": "86539781-e752-4d58-84e7-127bbbf2e29d"
      },
      "execution_count": 16,
      "outputs": [
        {
          "output_type": "stream",
          "name": "stdout",
          "text": [
            "언더 샘플링_랜덤언더 샘플링_데이터 결과 : 3-Fold CV f1 score: 0.9949\n"
          ]
        }
      ]
    },
    {
      "cell_type": "code",
      "source": [
        "# sampling_strategy\n",
        "# 0과 1사이의 숫자를 지정(소수 집단 데이터수/ 다수 집단 데이터수)하여 샘플링\n",
        "under_ramdom_05 = RandomUnderSampler(sampling_strategy = 0.5)\n",
        "X_random_05, y_random_05 = under_ramdom_05.fit_resample(X_data, y_class)"
      ],
      "metadata": {
        "id": "cSm1YNWUEj7W"
      },
      "execution_count": 18,
      "outputs": []
    },
    {
      "cell_type": "code",
      "source": [
        "plt.figure(figsize=(5,3))\n",
        "count_and_plot(y_random_05)"
      ],
      "metadata": {
        "colab": {
          "base_uri": "https://localhost:8080/",
          "height": 249
        },
        "id": "JwBLDyKsE3Fl",
        "outputId": "069e4beb-f9a3-487a-e09f-a773076c2ea8"
      },
      "execution_count": 19,
      "outputs": [
        {
          "output_type": "stream",
          "name": "stdout",
          "text": [
            "Class=0, n=200 (66.667%)\n",
            "Class=1, n=100 (33.333%)\n"
          ]
        },
        {
          "output_type": "display_data",
          "data": {
            "text/plain": [
              "<Figure size 360x216 with 1 Axes>"
            ],
            "image/png": "[encoded data removed]"
          },
          "metadata": {}
        }
      ]
    },
    {
      "cell_type": "code",
      "source": [
        "Randomforest_Result(X_random_05, y_random_05, \"언더 샘플링_랜덤언더 샘플링_비율 : 0.5_데이터 결과\")"
      ],
      "metadata": {
        "colab": {
          "base_uri": "https://localhost:8080/"
        },
        "id": "rCtx4vD0FI9r",
        "outputId": "994b71d4-6aad-4031-b369-af44fff429b1"
      },
      "execution_count": 20,
      "outputs": [
        {
          "output_type": "stream",
          "name": "stdout",
          "text": [
            "언더 샘플링_랜덤언더 샘플링_비율 : 0.5_데이터 결과 : 3-Fold CV f1 score: 0.9949\n"
          ]
        }
      ]
    },
    {
      "cell_type": "markdown",
      "source": [
        "3. TomekLinks"
      ],
      "metadata": {
        "id": "5eCXtJQWFYb6"
      }
    },
    {
      "cell_type": "code",
      "source": [
        "#토멕링크\n",
        "tl = TomekLinks()\n",
        "X_tl, y_tl = tl.fit_resample(X_data, y_class)"
      ],
      "metadata": {
        "id": "7lGa5MsMFV-v"
      },
      "execution_count": 25,
      "outputs": []
    },
    {
      "cell_type": "code",
      "source": [
        "plt.figure(figsize= (5,3))\n",
        "count_and_plot(y_tl)"
      ],
      "metadata": {
        "colab": {
          "base_uri": "https://localhost:8080/",
          "height": 249
        },
        "id": "cUdO-8YSFkn7",
        "outputId": "8b1c9ef2-5636-44c4-dfa7-82fc7af366a5"
      },
      "execution_count": 26,
      "outputs": [
        {
          "output_type": "stream",
          "name": "stdout",
          "text": [
            "Class=0, n=900 (90.000%)\n",
            "Class=1, n=100 (10.000%)\n"
          ]
        },
        {
          "output_type": "display_data",
          "data": {
            "text/plain": [
              "<Figure size 360x216 with 1 Axes>"
            ],
            "image/png": "[encoded data removed]"
          },
          "metadata": {}
        }
      ]
    },
    {
      "cell_type": "code",
      "source": [
        "Randomforest_Result(X_tl, y_tl, \"언더 샘플링_토멕링크_데이터 결과\")"
      ],
      "metadata": {
        "colab": {
          "base_uri": "https://localhost:8080/"
        },
        "id": "-zHIIVQ6Fo27",
        "outputId": "4503f8f1-e2be-4212-c00a-39f867bd6c25"
      },
      "execution_count": 27,
      "outputs": [
        {
          "output_type": "stream",
          "name": "stdout",
          "text": [
            "언더 샘플링_토멕링크_데이터 결과 : 3-Fold CV f1 score: 0.9802\n"
          ]
        }
      ]
    },
    {
      "cell_type": "markdown",
      "source": [
        "4. OSS(OneSidedSelection)"
      ],
      "metadata": {
        "id": "eb1P7WCsF39Y"
      }
    },
    {
      "cell_type": "code",
      "source": [
        "# OSS(OneSidedSelection)\n",
        "oss= OneSidedSelection(random_state=42)\n",
        "X_oss, y_oss = oss.fit_resample(X_data, y_class)"
      ],
      "metadata": {
        "id": "H0mr0mWtFvxw"
      },
      "execution_count": 28,
      "outputs": []
    },
    {
      "cell_type": "code",
      "source": [
        "plt.figure(figsize=(5,3))\n",
        "count_and_plot(y_oss)"
      ],
      "metadata": {
        "colab": {
          "base_uri": "https://localhost:8080/",
          "height": 249
        },
        "id": "nwZ8tjIwGFvm",
        "outputId": "4a30f59d-43da-447c-94d0-22072a6f3f66"
      },
      "execution_count": 29,
      "outputs": [
        {
          "output_type": "stream",
          "name": "stdout",
          "text": [
            "Class=0, n=607 (85.856%)\n",
            "Class=1, n=100 (14.144%)\n"
          ]
        },
        {
          "output_type": "display_data",
          "data": {
            "text/plain": [
              "<Figure size 360x216 with 1 Axes>"
            ],
            "image/png": "[encoded data removed]"
          },
          "metadata": {}
        }
      ]
    },
    {
      "cell_type": "code",
      "source": [
        "Randomforest_Result(X_oss, y_oss, \"언더 샘플링_OSS_데이터 결과\")"
      ],
      "metadata": {
        "colab": {
          "base_uri": "https://localhost:8080/"
        },
        "id": "s-bJRKvEGLE7",
        "outputId": "532a4476-9c97-43bb-ab9b-cec67c4c20bc"
      },
      "execution_count": 31,
      "outputs": [
        {
          "output_type": "stream",
          "name": "stdout",
          "text": [
            "언더 샘플링_OSS_데이터 결과 : 3-Fold CV f1 score: 0.9751\n"
          ]
        }
      ]
    },
    {
      "cell_type": "markdown",
      "source": [
        "3. OverSampling\n",
        "  1. 데이터셋 준비 및 확인"
      ],
      "metadata": {
        "id": "97sjhXXbGVTC"
      }
    },
    {
      "cell_type": "code",
      "source": [
        "# 데이터셋 준비 및 확인\n",
        "X_data, y_class = make_classification(n_classes=2, class_sep=2, n_samples=1000, n_features=20,\n",
        "                                     weights=[0.9, 0.1], flip_y = 0,\n",
        "                                     n_clusters_per_class=1, random_state=10)\n",
        "\n",
        "print(X_data.shape)\n",
        "y_class.shape\n",
        "\n",
        "plt.figure(figsize=(5,4))\n",
        "count_and_plot(y_class)"
      ],
      "metadata": {
        "colab": {
          "base_uri": "https://localhost:8080/",
          "height": 322
        },
        "id": "rDIMkkAZGRKi",
        "outputId": "0c95442b-27ea-4a3a-a86b-a9cfdc77fe01"
      },
      "execution_count": 34,
      "outputs": [
        {
          "output_type": "stream",
          "name": "stdout",
          "text": [
            "(1000, 20)\n",
            "Class=0, n=900 (90.000%)\n",
            "Class=1, n=100 (10.000%)\n"
          ]
        },
        {
          "output_type": "display_data",
          "data": {
            "text/plain": [
              "<Figure size 360x288 with 1 Axes>"
            ],
            "image/png": "[encoded data removed]"
          },
          "metadata": {}
        }
      ]
    },
    {
      "cell_type": "code",
      "source": [
        "Randomforest_Result(X_data, y_class, \"오버 샘플링_원본 데이터 결과\")"
      ],
      "metadata": {
        "colab": {
          "base_uri": "https://localhost:8080/"
        },
        "id": "6D1pqRNrG2rZ",
        "outputId": "5ae77f3a-fb19-4ec3-9aad-6f283fb504ad"
      },
      "execution_count": 38,
      "outputs": [
        {
          "output_type": "stream",
          "name": "stdout",
          "text": [
            "오버 샘플링_원본 데이터 결과 : 3-Fold CV f1 score: 0.9749\n"
          ]
        }
      ]
    },
    {
      "cell_type": "markdown",
      "source": [
        "2. Random over sampling"
      ],
      "metadata": {
        "id": "v5guTqoDHKtr"
      }
    },
    {
      "cell_type": "code",
      "source": [
        "# 랜덤 오버 샘플링\n",
        "ros= RandomOverSampler(random_state=42)\n",
        "X_ros, y_ros = ros.fit_resample(X_data, y_class)"
      ],
      "metadata": {
        "id": "q1QZ7xGzHEgJ"
      },
      "execution_count": 39,
      "outputs": []
    },
    {
      "cell_type": "code",
      "source": [
        "plt.figure(figsize=(5,3))\n",
        "count_and_plot(y_ros)"
      ],
      "metadata": {
        "colab": {
          "base_uri": "https://localhost:8080/",
          "height": 249
        },
        "id": "Qaakwp_-HZN9",
        "outputId": "1f924482-78c4-4737-c276-600c70357886"
      },
      "execution_count": 40,
      "outputs": [
        {
          "output_type": "stream",
          "name": "stdout",
          "text": [
            "Class=0, n=900 (50.000%)\n",
            "Class=1, n=900 (50.000%)\n"
          ]
        },
        {
          "output_type": "display_data",
          "data": {
            "text/plain": [
              "<Figure size 360x216 with 1 Axes>"
            ],
            "image/png": "[encoded data removed]"
          },
          "metadata": {}
        }
      ]
    },
    {
      "cell_type": "code",
      "source": [
        "Randomforest_Result(X_data, y_class, \"오버 샘플링_랜덤오버샘플링 결과\")"
      ],
      "metadata": {
        "colab": {
          "base_uri": "https://localhost:8080/"
        },
        "id": "ut6UU2g_HeHR",
        "outputId": "a8b85d29-7aad-48a8-e1ea-2880bc4b49b0"
      },
      "execution_count": 41,
      "outputs": [
        {
          "output_type": "stream",
          "name": "stdout",
          "text": [
            "오버 샘플링_랜덤오버샘플링 결과 : 3-Fold CV f1 score: 0.9753\n"
          ]
        }
      ]
    },
    {
      "cell_type": "markdown",
      "source": [
        "3. SMOTE"
      ],
      "metadata": {
        "id": "nQi0Whh_HlWp"
      }
    },
    {
      "cell_type": "code",
      "source": [
        "# SMOTE\n",
        "smote =SMOTE()\n",
        "X_sm, y_sm = smote.fit_resample(X_data, y_class)\n"
      ],
      "metadata": {
        "id": "34egjAiTHjzI"
      },
      "execution_count": 42,
      "outputs": []
    },
    {
      "cell_type": "code",
      "source": [
        "plt.figure(figsize=(5,3))\n",
        "count_and_plot(y_sm)"
      ],
      "metadata": {
        "colab": {
          "base_uri": "https://localhost:8080/",
          "height": 249
        },
        "id": "R1A6Q46lHuc8",
        "outputId": "618b05e2-e0a8-438b-ad20-e9a056f17489"
      },
      "execution_count": 43,
      "outputs": [
        {
          "output_type": "stream",
          "name": "stdout",
          "text": [
            "Class=0, n=900 (50.000%)\n",
            "Class=1, n=900 (50.000%)\n"
          ]
        },
        {
          "output_type": "display_data",
          "data": {
            "text/plain": [
              "<Figure size 360x216 with 1 Axes>"
            ],
            "image/png": "[encoded data removed]"
          },
          "metadata": {}
        }
      ]
    },
    {
      "cell_type": "code",
      "source": [
        "Randomforest_Result(X_sm, y_sm, \"오버 샘플링_SMOTE 결과\")"
      ],
      "metadata": {
        "colab": {
          "base_uri": "https://localhost:8080/"
        },
        "id": "Liu6U7a2Hyi3",
        "outputId": "529184ed-46d8-4a59-d19c-d3c2b8efdc35"
      },
      "execution_count": 45,
      "outputs": [
        {
          "output_type": "stream",
          "name": "stdout",
          "text": [
            "오버 샘플링_SMOTE 결과 : 3-Fold CV f1 score: 0.9967\n"
          ]
        }
      ]
    },
    {
      "cell_type": "markdown",
      "source": [
        "4. ADASYN"
      ],
      "metadata": {
        "id": "ZyKqwDr2H56N"
      }
    },
    {
      "cell_type": "code",
      "source": [
        "#ADASYN\n",
        "ada = ADASYN(random_state=42)\n",
        "X_ada, y_ada = ada.fit_resample(X_data, y_class)"
      ],
      "metadata": {
        "id": "4o9VgMeLH3AW"
      },
      "execution_count": 48,
      "outputs": []
    },
    {
      "cell_type": "code",
      "source": [
        "plt.figure(figsize=(5,3))\n",
        "count_and_plot(y_ada)"
      ],
      "metadata": {
        "colab": {
          "base_uri": "https://localhost:8080/",
          "height": 249
        },
        "id": "b2u8bYy6IGah",
        "outputId": "370b36d4-4a70-4c7f-aed5-86a989818682"
      },
      "execution_count": 49,
      "outputs": [
        {
          "output_type": "stream",
          "name": "stdout",
          "text": [
            "Class=0, n=900 (50.139%)\n",
            "Class=1, n=895 (49.861%)\n"
          ]
        },
        {
          "output_type": "display_data",
          "data": {
            "text/plain": [
              "<Figure size 360x216 with 1 Axes>"
            ],
            "image/png": "[encoded data removed]"
          },
          "metadata": {}
        }
      ]
    },
    {
      "cell_type": "code",
      "source": [
        "Randomforest_Result(X_ada, y_ada, \"오버 샘플링_ADASYN 결과\")"
      ],
      "metadata": {
        "colab": {
          "base_uri": "https://localhost:8080/"
        },
        "id": "yj7JAcu3IJCg",
        "outputId": "f13ad76b-326e-40f5-c1af-b576a7aed622"
      },
      "execution_count": 50,
      "outputs": [
        {
          "output_type": "stream",
          "name": "stdout",
          "text": [
            "오버 샘플링_ADASYN 결과 : 3-Fold CV f1 score: 0.9967\n"
          ]
        }
      ]
    },
    {
      "cell_type": "markdown",
      "source": [
        "5. Boderline SMOTE"
      ],
      "metadata": {
        "id": "L3tnhCunIU4n"
      }
    },
    {
      "cell_type": "code",
      "source": [
        "# Boderline SMOTE\n",
        "bor_sm = BorderlineSMOTE(random_state=42)\n",
        "X_bor_sm, y_bor_sm = bor_sm.fit_resample(X_data, y_class)"
      ],
      "metadata": {
        "id": "p_V_wQ71IT2w"
      },
      "execution_count": 51,
      "outputs": []
    },
    {
      "cell_type": "code",
      "source": [
        "plt.figure(figsize=(5,3))\n",
        "count_and_plot(y_bor_sm)"
      ],
      "metadata": {
        "colab": {
          "base_uri": "https://localhost:8080/",
          "height": 249
        },
        "id": "eca_vMWRIhVt",
        "outputId": "7f363ed9-caad-40bc-8874-c80ae2690827"
      },
      "execution_count": 53,
      "outputs": [
        {
          "output_type": "stream",
          "name": "stdout",
          "text": [
            "Class=0, n=900 (50.000%)\n",
            "Class=1, n=900 (50.000%)\n"
          ]
        },
        {
          "output_type": "display_data",
          "data": {
            "text/plain": [
              "<Figure size 360x216 with 1 Axes>"
            ],
            "image/png": "[encoded data removed]"
          },
          "metadata": {}
        }
      ]
    },
    {
      "cell_type": "code",
      "source": [
        "Randomforest_Result(X_bor_sm, y_bor_sm, \"오버 샘플링_Boderline SMOTE결과\")"
      ],
      "metadata": {
        "colab": {
          "base_uri": "https://localhost:8080/"
        },
        "id": "k0ecShYoIo50",
        "outputId": "0a1b8a05-3268-474b-b75b-65df8db85365"
      },
      "execution_count": 57,
      "outputs": [
        {
          "output_type": "stream",
          "name": "stdout",
          "text": [
            "오버 샘플링_Boderline SMOTE결과 : 3-Fold CV f1 score: 0.9967\n"
          ]
        }
      ]
    },
    {
      "cell_type": "code",
      "source": [
        ""
      ],
      "metadata": {
        "id": "5zvd-IOrIyaz"
      },
      "execution_count": null,
      "outputs": []
    }
  ]
}